{
 "cells": [
  {
   "cell_type": "code",
   "execution_count": 1,
   "metadata": {},
   "outputs": [],
   "source": [
    "import geopandas\n",
    "import numpy as np\n",
    "import pandas as pd\n",
    "import json\n",
    "from collections import defaultdict\n",
    "\n",
    "from constants import *"
   ]
  },
  {
   "cell_type": "markdown",
   "metadata": {},
   "source": [
    "### Global configuration\n",
    "`geopandas.options.io_engine` - Determines the engine used for reading shapefiles. `fiona` is used by default; `pyogrio` needs to be installed separately and is faster."
   ]
  },
  {
   "cell_type": "code",
   "execution_count": 2,
   "metadata": {},
   "outputs": [],
   "source": [
    "geopandas.options.io_engine = \"pyogrio\""
   ]
  },
  {
   "cell_type": "markdown",
   "metadata": {},
   "source": [
    "### Merging demographic and election data\n",
    "Precinct-level data from the census dataset is merged with block-level data from the election dataset.\n",
    "\n",
    "This will be done by determining which precinct each census block is contained within, and merging all blocks which are contained in the same precinct. The fields from each census block will be summed up to get the precinct-level election data.\n",
    "\n",
    "The precinct boundaries in the census data file will be treated as canonical, since they are clean and do not contain holes or overlapping boundaries."
   ]
  },
  {
   "cell_type": "code",
   "execution_count": 3,
   "metadata": {},
   "outputs": [],
   "source": [
    "def get_precinct_data(census_df, election_df, column_format=None, verbose=False, output_format=[\"merged_data\"]):\n",
    "    '''\n",
    "    Merges a state's precinct-level census dataset and census block level voting dataset.\n",
    "\n",
    "    Parameters\n",
    "    ----------\n",
    "    census_df : GeoDataFrame\n",
    "        GeoDataFrame containing the state's precinct-level census data.\n",
    "    election_df : DataFrame\n",
    "        DataFrame containing the state's block-level election data.\n",
    "    column_format : dict\n",
    "        dict containing a list of columns to rename and what to rename them to.\n",
    "    verbose : bool\n",
    "        Indicates whether or not descriptive data for manual double-checking should be printed.\n",
    "    output_format: list[str]\n",
    "        Gives a list of items to be returned.\n",
    "        Allowed values include:\n",
    "        'merged_data' - GeoDataFrame consisting of data merged to precinct-level\n",
    "        'mappings' - dict mapping each census block to a precinct\n",
    "        'unused_blocks' - GeoDataFrame containing blocks which could not be mapped to a precinct (if any)\n",
    "    \n",
    "    Returns\n",
    "    -------\n",
    "    List of selected output items (or a single object if only one output is selected)\n",
    "    '''\n",
    "    \n",
    "    # Join blocks onto the precinct-level DataFrame\n",
    "    election_df = election_df.set_index(\"GEOID20\")\n",
    "    census_df[\"vtd_geo_id\"] = census_df[\"GEOID20\"]\n",
    "    census_df = census_df.set_index(\"GEOID20\")\n",
    "    joined_block_df = geopandas.sjoin(\n",
    "                        election_df, \n",
    "                        census_df, \n",
    "                        how=\"left\", \n",
    "                        predicate=\"covered_by\"\n",
    "                    )\n",
    "\n",
    "    if column_format:\n",
    "        joined_block_df.rename(columns=column_format, inplace=True)\n",
    "    precinct_df = joined_block_df.groupby(\"vtd_geo_id\").sum()\n",
    "\n",
    "    # Add boundaries back to merged precinct-level data\n",
    "    precinct_df = precinct_df.set_geometry(census_df.geometry)\n",
    "\n",
    "    # Verbose output\n",
    "    if verbose:\n",
    "        print(\"Unused blocks: \", joined_block_df[\"vtd_geo_id\"].isna().sum())\n",
    "\n",
    "    # Return output\n",
    "    output = list()\n",
    "    for entry in output_format:\n",
    "        if entry == \"merged_data\":\n",
    "            output.append(precinct_df)\n",
    "        elif entry == \"mappings\":\n",
    "            # Create dict indicating the blocks that correspond to each district\n",
    "            d = defaultdict(lambda : list())\n",
    "            for index, row in joined_block_df.iterrows():\n",
    "                d[row[\"vtd_geo_id\"]].append(index)\n",
    "            output.append(dict(d))\n",
    "        elif entry == \"unused_blocks\":\n",
    "            output.append(joined_block_df.loc[joined_block_df[\"vtd_geo_id\"].isna()])\n",
    "\n",
    "    if len(output) == 1:\n",
    "        return output[0]\n",
    "    return output\n"
   ]
  },
  {
   "cell_type": "code",
   "execution_count": 4,
   "metadata": {},
   "outputs": [],
   "source": [
    "def get_percentages(precinct_df):\n",
    "    # Calculate percentages for each demographic group\n",
    "    pct_calculations = {\n",
    "        \"pop_white\": \"pct_white\",\n",
    "        \"pop_black\": \"pct_black\",\n",
    "        \"pop_native\": \"pct_native\",\n",
    "        \"pop_asian\": \"pct_asian\",\n",
    "        \"pop_pacific\": \"pct_pacific\",\n",
    "        \"pop_two_or_more\": \"pct_two_or_more\",\n",
    "        \"pop_hispanic\": \"pct_hispanic\"\n",
    "    }\n",
    "    for k, v in pct_calculations.items():\n",
    "        precinct_df[v] = precinct_df[k] / precinct_df[\"pop_total\"]\n",
    "    \n",
    "    # Calculate percentages for each party (only Democrat and Republican voters are taken into account)\n",
    "    precinct_df[\"pct_vote_dem\"] = precinct_df[\"vote_dem\"] / (precinct_df[\"vote_dem\"] + precinct_df[\"vote_rep\"])\n",
    "    precinct_df[\"pct_vote_rep\"] = precinct_df[\"vote_rep\"] / (precinct_df[\"vote_dem\"] + precinct_df[\"vote_rep\"])\n",
    "\n",
    "    return precinct_df"
   ]
  },
  {
   "cell_type": "markdown",
   "metadata": {},
   "source": [
    "### Calculating adjacency\n",
    "\n",
    "Converts adjacency data stored in CSV format to a dictionary of adjacency lists. A minimum threshold can be set on the length of the shared border required for precincts to be considered adjacent"
   ]
  },
  {
   "cell_type": "code",
   "execution_count": 5,
   "metadata": {},
   "outputs": [],
   "source": [
    "def validate_adjacency_data(adj_df, precinct_df, adj_thresh=0.0, verbose=True, return_rejections=False):\n",
    "    '''\n",
    "    Checks an adjacency file, removing edges between precincts whose shared boundary is below some threshold.\n",
    "\n",
    "    Parameters\n",
    "    ----------\n",
    "    adj_df : DataFrame\n",
    "        DataFrame containing the state's precinct adjacency data.\n",
    "    precinct_df : GeoDataFrame\n",
    "        GeoDataFrame indexed by GeoID containing the state's precinct boundaries.\n",
    "    adj_thresh : float\n",
    "        The minimum shared border length (in meters) required for precincts to be considered adjacent\n",
    "    verbose : bool\n",
    "        Indicates whether the list of rejected adjacency edges should be returned.\n",
    "    return_rejections : bool\n",
    "        Indicates whether the list of rejected adjacency edges should be returned.\n",
    "    \n",
    "    Returns\n",
    "    -------\n",
    "    dict containing adjacency lists for each precinct (and dict of rejected edges if specified)\n",
    "    '''\n",
    "    adjacency_lists = dict()\n",
    "    if verbose or return_rejections:\n",
    "        rejections = dict()\n",
    "    for _, row in adj_df.iterrows():\n",
    "        # Parse GeoIDs\n",
    "        curr_geoid = str(row[\"GEOID20\"])\n",
    "        adj_geoids = [x.strip(\"\\'\") for x in row[\"ADJ_GEOMS\"].strip(\"[]\").split(\", \")]\n",
    "\n",
    "        # Calculate boundaries and check if they surpass the minimum length\n",
    "        boundaries = precinct_df.loc[adj_geoids].intersection(precinct_df.loc[[curr_geoid] * len(adj_geoids)], align=False)\n",
    "        is_valid_border = (boundaries.to_crs(crs={\"proj\": \"cea\"}).length >= adj_thresh)\n",
    "        adjacency_lists[curr_geoid] = list(precinct_df.loc[adj_geoids][is_valid_border].index)\n",
    "\n",
    "        if verbose:\n",
    "            if len(adjacency_lists[curr_geoid]) == 0:\n",
    "                print(f\"Warning: {curr_geoid} does not have neighboring precincts of at least {adj_thresh} meters\")\n",
    "\n",
    "        # Determine which adjacencies were rejected\n",
    "        if verbose or return_rejections:\n",
    "            if (~is_valid_border).sum() > 0:\n",
    "                rejections[curr_geoid] = list(precinct_df.loc[adj_geoids][~is_valid_border].index)\n",
    "\n",
    "    # Verify that there are no edges which only go one way\n",
    "    bad_edges = list()\n",
    "    for prec, neighbors in adjacency_lists.items():\n",
    "        for n in neighbors:\n",
    "            if prec not in adjacency_lists[n]:\n",
    "                bad_edges.append((prec, n))\n",
    "    if len(bad_edges) > 0:\n",
    "        raise Exception(f\"The following edges only go one way: {bad_edges}\")\n",
    "\n",
    "    if verbose:\n",
    "        # Determine number of rejected edges\n",
    "        rejection_count = sum([len(x) for x in rejections.values()])\n",
    "        print(f\"{rejection_count} adjacency edges rejected\")\n",
    "\n",
    "    if return_rejections:\n",
    "        return (adjacency_lists, rejections)\n",
    "    return adjacency_lists"
   ]
  },
  {
   "cell_type": "markdown",
   "metadata": {},
   "source": [
    "### Running preprocessing functions on selected states"
   ]
  },
  {
   "cell_type": "code",
   "execution_count": 6,
   "metadata": {},
   "outputs": [],
   "source": [
    "# Set options\n",
    "column_format = {\n",
    "    \"P0010001\": \"pop_total\",            # Total population\n",
    "    \"P0010003\": \"pop_white\",            # White alone\n",
    "    \"P0010004\": \"pop_black\",            # Black or African American alone\n",
    "    \"P0010005\": \"pop_native\",           # American Indian and Alaska Native alone\n",
    "    \"P0010006\": \"pop_asian\",            # Asian alone\n",
    "    \"P0010007\": \"pop_pacific\",          # Native Hawaiian and Other Pacific Islander alone\n",
    "    \"P0010009\": \"pop_two_or_more\",      # Population of two or more races\n",
    "    \"P0020002\": \"pop_hispanic\",         # Hispanic or Latino\n",
    "    \"P0030001\": \"pop_total_18\",         # Total population (age 18 and over)\n",
    "    \"P0030003\": \"pop_white_18\",         # White alone (age 18 and over)\n",
    "    \"P0030004\": \"pop_black_18\",         # Black or African American alone (age 18 and over)\n",
    "    \"P0030005\": \"pop_native_18\",        # American Indian and Alaska Native alone (age 18 and over)\n",
    "    \"P0030006\": \"pop_asian_18\",         # Asian alone (age 18 and over)\n",
    "    \"P0030007\": \"pop_pacific_18\",       # Native Hawaiian and Other Pacific Islander alone (age 18 and over)\n",
    "    \"P0030009\": \"pop_two_or_more_18\",   # Population of two or more races (age 18 and over)\n",
    "    \"P0040002\": \"pop_hispanic_18\",      # Hispanic or Latino (age 18 and over)\n",
    "    \"G20PREDBID\" : \"vote_dem\",          # Voted for Biden in 2020 presidential election\n",
    "    \"G20PRERTRU\": \"vote_rep\"            # Voted for Trump in 2020 presidential election\n",
    "}\n",
    "output_columns = list(column_format.values()) + [\"geometry\"]\n",
    "adj_thresh = 200 * 0.3048 # Equal to 200 ft"
   ]
  },
  {
   "cell_type": "code",
   "execution_count": 7,
   "metadata": {},
   "outputs": [
    {
     "name": "stdout",
     "output_type": "stream",
     "text": [
      "Creating AZ precinct data file:\n",
      "Unused blocks:  0\n"
     ]
    }
   ],
   "source": [
    "# Arizona precinct file\n",
    "print(f\"Creating AZ precinct data file:\")\n",
    "\n",
    "az_census_df = geopandas.read_file(AZ_DEMOGRAPHIC_PATH)\n",
    "az_election_df = geopandas.read_file(AZ_ELECTION_PATH)\n",
    "\n",
    "az_precinct_df = get_precinct_data(az_census_df, az_election_df, column_format=column_format, verbose=True)\n",
    "az_precinct_df[output_columns].to_file(AZ_PRECINCT_OUTPUT_PATH, driver=\"GeoJSON\")"
   ]
  },
  {
   "cell_type": "code",
   "execution_count": 8,
   "metadata": {},
   "outputs": [
    {
     "name": "stdout",
     "output_type": "stream",
     "text": [
      "Creating AZ adjacency list file:\n",
      "84 adjacency edges rejected\n"
     ]
    }
   ],
   "source": [
    "# Arizona adjacency file\n",
    "print(f\"Creating AZ adjacency list file:\")\n",
    "\n",
    "az_adj_df = pd.read_csv(AZ_ADJACENCY_PATH)\n",
    "az_adj_list = validate_adjacency_data(az_adj_df, az_precinct_df, adj_thresh=adj_thresh, verbose=True)\n",
    "with open(AZ_ADJACENCY_OUTPUT_PATH, \"w\") as output_file:\n",
    "    json.dump(az_adj_list, output_file)"
   ]
  },
  {
   "cell_type": "code",
   "execution_count": 9,
   "metadata": {},
   "outputs": [
    {
     "name": "stdout",
     "output_type": "stream",
     "text": [
      "Creating VA precinct data file:\n",
      "Unused blocks:  0\n"
     ]
    }
   ],
   "source": [
    "# Virginia precinct file\n",
    "print(f\"Creating VA precinct data file:\")\n",
    "\n",
    "va_census_df = geopandas.read_file(VA_DEMOGRAPHIC_PATH)\n",
    "va_election_df = geopandas.read_file(VA_ELECTION_PATH)\n",
    "\n",
    "va_precinct_df = get_precinct_data(va_census_df, va_election_df, column_format=column_format, verbose=True)\n",
    "va_precinct_df[output_columns].to_file(VA_PRECINCT_OUTPUT_PATH, driver=\"GeoJSON\")"
   ]
  },
  {
   "cell_type": "code",
   "execution_count": 10,
   "metadata": {},
   "outputs": [
    {
     "name": "stdout",
     "output_type": "stream",
     "text": [
      "Creating VA adjacency list file:\n",
      "202 adjacency edges rejected\n"
     ]
    }
   ],
   "source": [
    "# Virginia adjacency file\n",
    "print(f\"Creating VA adjacency list file:\")\n",
    "\n",
    "va_adj_df = pd.read_csv(VA_ADJACENCY_PATH)\n",
    "va_adj_list = validate_adjacency_data(va_adj_df, va_precinct_df, adj_thresh=adj_thresh, verbose=True)\n",
    "with open(VA_ADJACENCY_OUTPUT_PATH, \"w\") as output_file:\n",
    "    json.dump(va_adj_list, output_file)"
   ]
  },
  {
   "cell_type": "code",
   "execution_count": 11,
   "metadata": {},
   "outputs": [
    {
     "name": "stdout",
     "output_type": "stream",
     "text": [
      "Creating WI precinct data file:\n",
      "Unused blocks:  0\n"
     ]
    }
   ],
   "source": [
    "# Wisconsin precinct file\n",
    "print(f\"Creating WI precinct data file:\")\n",
    "\n",
    "wi_census_df = geopandas.read_file(WI_DEMOGRAPHIC_PATH)\n",
    "wi_election_df = geopandas.read_file(WI_ELECTION_PATH)\n",
    "\n",
    "wi_precinct_df = get_precinct_data(wi_census_df, wi_election_df, column_format=column_format, verbose=True)\n",
    "wi_precinct_df[output_columns].to_file(WI_PRECINCT_OUTPUT_PATH, driver=\"GeoJSON\")"
   ]
  },
  {
   "cell_type": "code",
   "execution_count": 12,
   "metadata": {},
   "outputs": [
    {
     "name": "stdout",
     "output_type": "stream",
     "text": [
      "Creating WI adjacency list file:\n",
      "Warning: 55017000636 does not have neighboring precincts\n",
      "Warning: 55025003039 does not have neighboring precincts\n",
      "Warning: 55071008083 does not have neighboring precincts\n",
      "Warning: 55139007160 does not have neighboring precincts\n",
      "1142 adjacency edges rejected\n"
     ]
    }
   ],
   "source": [
    "# Wisconsin adjacency file\n",
    "print(f\"Creating WI adjacency list file:\")\n",
    "\n",
    "wi_adj_df = pd.read_csv(WI_ADJACENCY_PATH)\n",
    "wi_adj_list = validate_adjacency_data(wi_adj_df, wi_precinct_df, adj_thresh=adj_thresh, verbose=True)\n",
    "with open(WI_ADJACENCY_OUTPUT_PATH, \"w\") as output_file:\n",
    "    json.dump(wi_adj_list, output_file)"
   ]
  }
 ],
 "metadata": {
  "kernelspec": {
   "display_name": "Python 3",
   "language": "python",
   "name": "python3"
  },
  "language_info": {
   "codemirror_mode": {
    "name": "ipython",
    "version": 3
   },
   "file_extension": ".py",
   "mimetype": "text/x-python",
   "name": "python",
   "nbconvert_exporter": "python",
   "pygments_lexer": "ipython3",
   "version": "3.10.7"
  },
  "orig_nbformat": 4
 },
 "nbformat": 4,
 "nbformat_minor": 2
}
