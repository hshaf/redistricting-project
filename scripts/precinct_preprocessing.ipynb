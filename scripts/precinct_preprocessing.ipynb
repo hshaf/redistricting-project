{
 "cells": [
  {
   "cell_type": "code",
   "execution_count": 1,
   "metadata": {},
   "outputs": [],
   "source": [
    "import geopandas\n",
    "import numpy as np\n",
    "import pandas as pd\n",
    "from collections import defaultdict\n",
    "\n",
    "from constants import *"
   ]
  },
  {
   "cell_type": "markdown",
   "metadata": {},
   "source": [
    "### Configuration\n",
    "`OVERLAP_IGNORE_THRESHOLD` - If the percentage overlap is less than this value, then the overlap is ignored.\n",
    "\n",
    "`OVERLAP_CONFIRM_THRESHOLD` - If the percentage overlap is greater than this value, then the districts are considered clearly overlapping.\n",
    "\n",
    "`geopandas.options.io_engine` - Determines the engine used for reading shapefiles. `fiona` is used by default; `pyogrio` needs to be installed separately and is faster."
   ]
  },
  {
   "cell_type": "code",
   "execution_count": 2,
   "metadata": {},
   "outputs": [],
   "source": [
    "OVERLAP_IGNORE_THRESHOLD = 0.1\n",
    "OVERLAP_CONFIRM_THRESHOLD = 0.8\n",
    "\n",
    "geopandas.options.io_engine = \"pyogrio\""
   ]
  },
  {
   "cell_type": "code",
   "execution_count": 3,
   "metadata": {},
   "outputs": [],
   "source": [
    "# Temp replacement for file paths while handling stuff\n",
    "VA_DEMOGRAPHIC_PATH = \"../../Data/va_pl2020_vtd.zip\"\n",
    "VA_ELECTION_PATH = \"../../Data/va_vest_20.zip\""
   ]
  },
  {
   "cell_type": "code",
   "execution_count": null,
   "metadata": {},
   "outputs": [],
   "source": [
    "census_df_format = {\n",
    "    \"P0030001\": \"pop_total\",\n",
    "    \"P0030003\": \"pop_white\",\n",
    "    \"P0030004\": \"pop_black\",\n",
    "    \"P0030005\": \"pop_native\",\n",
    "    \"P0030006\": \"pop_asian\",\n",
    "    \"P0030007\": \"pop_pacific\",\n",
    "    \"P0030009\": \"pop_two_or_more\",\n",
    "    \"P0040002\": \"pop_hispanic\"\n",
    "}\n",
    "\n",
    "election_df_format = {\n",
    "    \"G20PREDBID\" : \"vote_dem\",\n",
    "    \"G20PRERTRU\": \"vote_rep\"\n",
    "}\n",
    "\n",
    "# Load and format precinct-level census data\n",
    "va_census_df = geopandas.read_file(VA_DEMOGRAPHIC_PATH)\n",
    "va_census_df.set_index(\"GEOID20\", inplace=True)\n",
    "va_census.rename(columns=census_df_format, inplace=True)\n",
    "\n",
    "# Load and format block-level election data\n",
    "va_election_df = pd.read_csv(VA_BLOCK_ELECTION_PATH)\n",
    "va_election_df.set_index(\"geoid20\", inplace=True)\n",
    "va_election.rename(columns=election_df_format, inplace=True)\n",
    "\n",
    "# Load and format block boundaries\n",
    "va_boundary_df = geopandas.read_file(VA_BLOCK_BOUNDARY_PATH)\n",
    "va_boundary_df = va_boundary_df.set_index(\"GEOID20\")[[\"geometry\"]]\n",
    "\n",
    "va_precinct_df = get_precinct_data(va_census_df, va_election_df, va_boundary_df)"
   ]
  },
  {
   "cell_type": "code",
   "execution_count": 4,
   "metadata": {},
   "outputs": [
    {
     "data": {
      "text/plain": [
       "'\\nva_census_id_header = pd.Series(index=va_census.index, data=\"VA_CENSUS\")\\nva_census_index_str = pd.Series(index=va_census.index, data=va_census.index).astype(str)\\nva_census[\"UNIQUE_ID\"] = va_census_id_header.str.cat(others=[va_census_index_str, va_census[\"COUNTYFP20\"], va_census[\"VTDST20\"]], sep=\"-\")\\n\\nva_vest_id_header = pd.Series(index=va_vest.index, data=\"VA_VEST\")\\nva_vest_index_str = pd.Series(index=va_vest.index, data=va_vest.index).astype(str)\\nva_vest[\"UNIQUE_ID\"] = va_vest_id_header.str.cat(others=[va_vest_index_str, va_vest[\"COUNTYFP\"], va_vest[\"VTDST\"]], sep=\"-\")\\n'"
      ]
     },
     "execution_count": 4,
     "metadata": {},
     "output_type": "execute_result"
    }
   ],
   "source": [
    "va_census = geopandas.read_file(VA_DEMOGRAPHIC_PATH)\n",
    "va_vest = geopandas.read_file(VA_ELECTION_PATH)\n",
    "\n",
    "# Assign unique IDs to each entries for ease of analysis\n",
    "'''\n",
    "va_census_id_header = pd.Series(index=va_census.index, data=\"VA_CENSUS\")\n",
    "va_census_index_str = pd.Series(index=va_census.index, data=va_census.index).astype(str)\n",
    "va_census[\"UNIQUE_ID\"] = va_census_id_header.str.cat(others=[va_census_index_str, va_census[\"COUNTYFP20\"], va_census[\"VTDST20\"]], sep=\"-\")\n",
    "\n",
    "va_vest_id_header = pd.Series(index=va_vest.index, data=\"VA_VEST\")\n",
    "va_vest_index_str = pd.Series(index=va_vest.index, data=va_vest.index).astype(str)\n",
    "va_vest[\"UNIQUE_ID\"] = va_vest_id_header.str.cat(others=[va_vest_index_str, va_vest[\"COUNTYFP\"], va_vest[\"VTDST\"]], sep=\"-\")\n",
    "'''"
   ]
  },
  {
   "cell_type": "markdown",
   "metadata": {},
   "source": [
    "### Overlap Checking\n",
    "District data from the census dataset is merged with district data from the VEST dataset.\n",
    "\n",
    "This will be done by determining how the districts in the census dataset overlap with districts in the VEST dataset. The set of district boundaries should be relatively similar, though a district in the census dataset may be broken up into multiple districts in the VEST dataset (or vice versa).\n",
    "\n",
    "The boundaries in the census data file will be treated as canonical, since they contain fewer overlapping sections and empty holes. Data from districts in the VEST file will be mapped to the district in the census file which covers that area."
   ]
  },
  {
   "cell_type": "code",
   "execution_count": 25,
   "metadata": {},
   "outputs": [],
   "source": [
    "def merge_precinct_data(census_df, vest_df, verbose=False, output_format=[\"merged_precincts\"]):\n",
    "    '''\n",
    "    Merges a state's census dataset and VEST dataset.\n",
    "\n",
    "    Parameters\n",
    "    ----------\n",
    "    census_df : GeoDataFrame\n",
    "        GeoDataFrame containing the state's precinct-level census data.\n",
    "    vest_df : GeoDataFrame\n",
    "        GeoDataFrame containing the state's precinct-level election data.\n",
    "    verbose : bool\n",
    "        Indicates whether or not descriptive data for manual double-checking should be printed.\n",
    "    output_mappings: list[str]\n",
    "        Gives a list of items to be returned.\n",
    "        Allowed values include:\n",
    "        'merged_precincts' - GeoDataFrame consisting of merged precinct data\n",
    "        'mappings' - \n",
    "    \n",
    "    Returns\n",
    "    -------\n",
    "    GeoDataFrame containing merged data or (GeoDataFrame, dict) containing merged data and dict of combined precincts\n",
    "    '''\n",
    "\n",
    "    census_df[\"INDEX_ID\"] = pd.Series(index=census_df.index, data=census_df.index)\n",
    "    vest_df[\"INDEX_ID\"] = pd.Series(index=vest_df.index, data=vest_df.index)\n",
    "\n",
    "    # Determine all overlaps between precincts in the census dataset and VEST dataset\n",
    "    # If the overlap has area zero (consists only of points and lines), then it is discarded\n",
    "    overlap_check = geopandas.overlay(census_df, vest_df, keep_geom_type=True)\n",
    "    overlap_check.rename_geometry(\"overlap_geometry\", inplace=True)\n",
    "\n",
    "    # Calculate area of overlap vs areea of census/VEST precincts and determine percentage overlap\n",
    "    # Area (overlap_geometry_area, census_geometry_area, vest_geometry_area) is calculated in square meters\n",
    "    overlap_crs = overlap_check.geometry.crs\n",
    "    overlap_check[\"census_geometry\"] = geopandas.GeoSeries(overlap_check[\"INDEX_ID_1\"].apply(lambda x : census_df.loc[x][\"geometry\"]))\n",
    "    overlap_check[\"census_geometry\"].set_crs(crs=overlap_crs, inplace=True)\n",
    "    overlap_check[\"vest_geometry\"] = geopandas.GeoSeries(overlap_check[\"INDEX_ID_2\"].apply(lambda x : vest_df.loc[x][\"geometry\"]))\n",
    "    overlap_check[\"vest_geometry\"].set_crs(crs=overlap_crs, inplace=True)\n",
    "\n",
    "    overlap_check[\"overlap_geometry_area\"] = overlap_check[\"overlap_geometry\"].to_crs({'proj':'cea'}).area\n",
    "    overlap_check[\"census_geometry_area\"] = overlap_check[\"census_geometry\"].to_crs({'proj':'cea'}).area\n",
    "    overlap_check[\"vest_geometry_area\"] = overlap_check[\"vest_geometry\"].to_crs({'proj':'cea'}).area\n",
    "\n",
    "    overlap_check[\"census_overlap\"] = overlap_check[\"overlap_geometry_area\"] / overlap_check[\"census_geometry_area\"]\n",
    "    overlap_check[\"vest_overlap\"] = overlap_check[\"overlap_geometry_area\"] / overlap_check[\"vest_geometry_area\"]\n",
    "\n",
    "    # Split overlaps into groups:\n",
    "    # matched_precincts_overlaps contains precincts which more or less match one-to-one\n",
    "    # subset_overlaps contains precincts which are likely a subset of a precinct in the other dataset\n",
    "    # manual_check_overlaps contains edge cases which may need to be checked manually\n",
    "    # minor_overlaps contains overlaps which make up a small portion of both precincts, which can be ignored\n",
    "    matched_precinct_overlap_indices = (overlap_check[\"census_overlap\"] > OVERLAP_CONFIRM_THRESHOLD) & (overlap_check[\"vest_overlap\"] > OVERLAP_CONFIRM_THRESHOLD)\n",
    "    matched_precinct_overlaps = overlap_check[matched_precinct_overlap_indices]\n",
    "\n",
    "    subset_overlap_indices = (overlap_check[\"census_overlap\"] > OVERLAP_CONFIRM_THRESHOLD) ^ (overlap_check[\"vest_overlap\"] > OVERLAP_CONFIRM_THRESHOLD)\n",
    "    subset_overlaps = overlap_check[subset_overlap_indices]\n",
    "\n",
    "    manual_check_overlap_indices = ((overlap_check[\"census_overlap\"] <= OVERLAP_CONFIRM_THRESHOLD) & (overlap_check[\"vest_overlap\"] <= OVERLAP_CONFIRM_THRESHOLD) &\n",
    "                                    (overlap_check[\"census_overlap\"] >= OVERLAP_IGNORE_THRESHOLD) & (overlap_check[\"vest_overlap\"] >= OVERLAP_IGNORE_THRESHOLD))\n",
    "    manual_check_overlaps = overlap_check[manual_check_overlap_indices]\n",
    "\n",
    "    minor_overlap_indices = (overlap_check[\"census_overlap\"] < OVERLAP_IGNORE_THRESHOLD) & (overlap_check[\"vest_overlap\"] < OVERLAP_IGNORE_THRESHOLD)\n",
    "    minor_overlaps = overlap_check[minor_overlap_indices]\n",
    "\n",
    "    if verbose:\n",
    "        print(f\"matched_precinct_overlaps: {len(matched_precinct_overlaps)}\")\n",
    "        print(f\"subset_overlaps: {len(subset_overlaps)}\")\n",
    "        print(f\"manual_check_overlaps: {len(manual_check_overlaps)}\")\n",
    "        print(f\"minor_overlaps: {len(minor_overlaps)}\")\n",
    "\n",
    "    # Combine precincts which have overlapping areas\n",
    "    vest_to_census_mapping = defaultdict(lambda : list())\n",
    "    census_to_vest_mapping = defaultdict(lambda : list())\n",
    "\n",
    "    for _, row in matched_precinct_overlaps.iterrows():\n",
    "        census_id = row[\"INDEX_ID_1\"]\n",
    "        vest_id = row[\"INDEX_ID_2\"]\n",
    "        vest_to_census_mapping[census_id].append(vest_id)\n",
    "        census_to_vest_mapping[vest_id].append(census_id)\n",
    "\n",
    "    # Merging VEST districts into census districts\n",
    "    for _, row in subset_overlaps.sort_values(\"census_overlap\")[subset_overlaps[\"census_overlap\"] <= 0.8].iterrows():\n",
    "        census_id = row[\"INDEX_ID_1\"]\n",
    "        vest_id = row[\"INDEX_ID_2\"]\n",
    "        vest_to_census_mapping[census_id].append(vest_id)\n",
    "\n",
    "    # Merging census districts into VEST districts\n",
    "    for _, row in subset_overlaps.sort_values(\"vest_overlap\")[subset_overlaps[\"vest_overlap\"] <= 0.8].iterrows():\n",
    "        census_id = row[\"INDEX_ID_1\"]\n",
    "        vest_id = row[\"INDEX_ID_2\"]\n",
    "        census_to_vest_mapping[vest_id].append(census_id)\n",
    "\n",
    "    # Drop mappings in census_to_vest_mapping consisting of only one item\n",
    "    for k in list(census_to_vest_mapping.keys()):\n",
    "        if len(census_to_vest_mapping[k]) == 1:\n",
    "            census_to_vest_mapping.pop(k)\n",
    "\n",
    "    counts = defaultdict(lambda : 0)\n",
    "    for m in vest_to_census_mapping.values():\n",
    "        counts[len(m)] += 1\n",
    "    print(counts)\n",
    "\n",
    "    counts = defaultdict(lambda : 0)\n",
    "    for m in census_to_vest_mapping.values():\n",
    "        counts[len(m)] += 1\n",
    "    print(counts)"
   ]
  },
  {
   "cell_type": "code",
   "execution_count": 26,
   "metadata": {},
   "outputs": [
    {
     "name": "stderr",
     "output_type": "stream",
     "text": [
      "c:\\Users\\marcu\\AppData\\Local\\Programs\\Python\\Python310\\lib\\site-packages\\geopandas\\geodataframe.py:1815: FutureWarning: `unary_union` returned None due to all-None GeoSeries. In future, `unary_union` will return 'GEOMETRYCOLLECTION EMPTY' instead.\n",
      "  merged_geom = block.unary_union\n"
     ]
    },
    {
     "name": "stdout",
     "output_type": "stream",
     "text": [
      "matched_precinct_overlaps: 2443\n",
      "subset_overlaps: 44\n",
      "manual_check_overlaps: 0\n",
      "minor_overlaps: 1343\n",
      "defaultdict(<function merge_precinct_data.<locals>.<lambda> at 0x000001AEDDF81E10>, {1: 2427, 2: 23})\n",
      "defaultdict(<function merge_precinct_data.<locals>.<lambda> at 0x000001AEB9AC9C60>, {2: 8, 3: 1})\n"
     ]
    },
    {
     "name": "stderr",
     "output_type": "stream",
     "text": [
      "c:\\Users\\marcu\\AppData\\Local\\Programs\\Python\\Python310\\lib\\site-packages\\geopandas\\geodataframe.py:1474: UserWarning: Boolean Series key will be reindexed to match DataFrame index.\n",
      "  result = super().__getitem__(key)\n"
     ]
    }
   ],
   "source": [
    "merge_precinct_data(va_census, va_vest, verbose=True)"
   ]
  },
  {
   "cell_type": "code",
   "execution_count": 32,
   "metadata": {},
   "outputs": [],
   "source": [
    "def get_precinct_data(census_df, election_df, boundary_df, verbose=False, output_format=[\"merged_data\"]):\n",
    "    '''\n",
    "    Merges a state's precinct-level census dataset and census block level voting dataset.\n",
    "\n",
    "    Parameters\n",
    "    ----------\n",
    "    census_df : GeoDataFrame\n",
    "        GeoDataFrame containing the state's precinct-level census data. Must use GeoID column as index.\n",
    "    election_df : DataFrame\n",
    "        DataFrame containing the state's block-level election data. Must use GeoID column as index.\n",
    "    boundary_df : GeoDataFrame\n",
    "        GeoDataFrame containing the state's census block boundaries. Must use GeoID column as index.\n",
    "    verbose : bool\n",
    "        Indicates whether or not descriptive data for manual double-checking should be printed.\n",
    "    output_format: list[str]\n",
    "        Gives a list of items to be returned.\n",
    "        Allowed values include:\n",
    "        'merged_data' - GeoDataFrame consisting of data merged to precinct-level\n",
    "        'mappings' - dict mapping each census block to a precinct\n",
    "        'unused_blocks' - GeoDataFrame containing blocks which could not be mapped to a precinct (if any)\n",
    "    \n",
    "    Returns\n",
    "    -------\n",
    "    List of selected output items (or a single object if only one output is selected)\n",
    "    '''\n",
    "\n",
    "    # Merge block-level election data and block boundary data\n",
    "    if not boundary_df.index.equals(election_df.index):\n",
    "        raise Exception(\"boundary_df and election_df do not have the same index\")\n",
    "    merged_block_df = boundary_df.join(election_df)\n",
    "    merged_block_df.rename_axis(index=[\"BLOCK_GEOID20\"], inplace=True)\n",
    "\n",
    "    # Join blocks onto the precinct-level DataFrame\n",
    "    census_df[\"VTD_GEOID20\"] = census_df.index\n",
    "    merged_df = geopandas.sjoin(merged_block_df, census_df, how=\"left\", predicate=\"covered_by\")\n",
    "    precinct_df.groupby(\"VTD_GEOID20\").sum()\n",
    "\n",
    "    # Return output\n",
    "    output = list()\n",
    "    for entry in output_format:\n",
    "        if entry == \"merged_data\":\n",
    "            output.append(precinct_df)\n",
    "        elif entry == \"mappings\":\n",
    "            # Create dict indicating the blocks that correspond to each district\n",
    "            d = defaultdict(lambda : list())\n",
    "            for index, row in precinct_df.iterrows():\n",
    "                d[row[\"VTD_GEOID20\"]].append(index)\n",
    "            output.append(dict(d))\n",
    "        elif entry == \"unused_blocks\":\n",
    "            output.append(merged_df.loc[merged_df[\"VTD_GEOID20\"].isna()])\n",
    "\n",
    "    if len(output) == 1:\n",
    "        return output[0]\n",
    "    return output\n"
   ]
  }
 ],
 "metadata": {
  "kernelspec": {
   "display_name": "Python 3",
   "language": "python",
   "name": "python3"
  },
  "language_info": {
   "codemirror_mode": {
    "name": "ipython",
    "version": 3
   },
   "file_extension": ".py",
   "mimetype": "text/x-python",
   "name": "python",
   "nbconvert_exporter": "python",
   "pygments_lexer": "ipython3",
   "version": "3.10.7"
  },
  "orig_nbformat": 4
 },
 "nbformat": 4,
 "nbformat_minor": 2
}
