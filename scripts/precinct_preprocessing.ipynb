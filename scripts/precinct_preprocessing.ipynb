{
 "cells": [
  {
   "cell_type": "code",
   "execution_count": 1,
   "metadata": {},
   "outputs": [],
   "source": [
    "import geopandas\n",
    "import numpy as np\n",
    "import pandas as pd\n",
    "from collections import defaultdict\n",
    "\n",
    "from constants import *"
   ]
  },
  {
   "cell_type": "markdown",
   "metadata": {},
   "source": [
    "### Configuration\n",
    "`OVERLAP_IGNORE_THRESHOLD` - If the percentage overlap is less than this value, then the overlap is ignored.\n",
    "\n",
    "`OVERLAP_CONFIRM_THRESHOLD` - If the percentage overlap is greater than this value, then the districts are considered clearly overlapping.\n",
    "\n",
    "`geopandas.options.io_engine` - Determines the engine used for reading shapefiles. `fiona` is used by default; `pyogrio` needs to be installed separately and is faster."
   ]
  },
  {
   "cell_type": "code",
   "execution_count": 2,
   "metadata": {},
   "outputs": [],
   "source": [
    "OVERLAP_IGNORE_THRESHOLD = 0.1\n",
    "OVERLAP_CONFIRM_THRESHOLD = 0.8\n",
    "\n",
    "geopandas.options.io_engine = \"pyogrio\""
   ]
  },
  {
   "cell_type": "code",
   "execution_count": 3,
   "metadata": {},
   "outputs": [],
   "source": [
    "# Temp replacement for file paths while handling stuff\n",
    "VA_DEMOGRAPHIC_PATH = \"../../Data/va_pl2020_vtd.zip\"\n",
    "VA_ELECTION_PATH = \"../../Data/va_vest_20.zip\""
   ]
  },
  {
   "cell_type": "markdown",
   "metadata": {},
   "source": [
    "### Overlap Checking\n",
    "District data from the census dataset is merged with district data from the VEST dataset.\n",
    "\n",
    "This will be done by determining how the districts in the census dataset overlap with districts in the VEST dataset. The set of district boundaries should be relatively similar, though a district in the census dataset may be broken up into multiple districts in the VEST dataset (or vice versa).\n",
    "\n",
    "The boundaries in the census data file will be treated as canonical, since they contain fewer overlapping sections and empty holes. Data from districts in the VEST file will be mapped to the district in the census file which covers that area."
   ]
  },
  {
   "cell_type": "code",
   "execution_count": 56,
   "metadata": {},
   "outputs": [
    {
     "data": {
      "text/plain": [
       "STATEFP         object\n",
       "COUNTYFP        object\n",
       "PRECINCTID      object\n",
       "VAP_MOD          int64\n",
       "vote_dem       float64\n",
       "vote_rep       float64\n",
       "G20PRELJOR     float64\n",
       "G20PREOWRI     float64\n",
       "G20USSDWAR     float64\n",
       "G20USSRGAD     float64\n",
       "G20USSOWRI     float64\n",
       "geometry      geometry\n",
       "vote_other     float64\n",
       "dtype: object"
      ]
     },
     "execution_count": 56,
     "metadata": {},
     "output_type": "execute_result"
    }
   ],
   "source": [
    "va_election_df.dtypes"
   ]
  },
  {
   "cell_type": "code",
   "execution_count": 21,
   "metadata": {},
   "outputs": [],
   "source": [
    "def get_precinct_data(census_df, election_df, verbose=False, output_format=[\"merged_data\"]):\n",
    "    '''\n",
    "    Merges a state's precinct-level census dataset and census block level voting dataset.\n",
    "\n",
    "    Parameters\n",
    "    ----------\n",
    "    census_df : GeoDataFrame\n",
    "        GeoDataFrame containing the state's precinct-level census data.\n",
    "    election_df : DataFrame\n",
    "        DataFrame containing the state's block-level election data.\n",
    "    verbose : bool\n",
    "        Indicates whether or not descriptive data for manual double-checking should be printed.\n",
    "    output_format: list[str]\n",
    "        Gives a list of items to be returned.\n",
    "        Allowed values include:\n",
    "        'merged_data' - GeoDataFrame consisting of data merged to precinct-level\n",
    "        'mappings' - dict mapping each census block to a precinct\n",
    "        'unused_blocks' - GeoDataFrame containing blocks which could not be mapped to a precinct (if any)\n",
    "    \n",
    "    Returns\n",
    "    -------\n",
    "    List of selected output items (or a single object if only one output is selected)\n",
    "    '''\n",
    "\n",
    "    # Set index to GeoID and format census data\n",
    "    census_df_format = {\n",
    "        \"P0030001\": \"pop_total\",\n",
    "        \"P0030003\": \"pop_white\",\n",
    "        \"P0030004\": \"pop_black\",\n",
    "        \"P0030005\": \"pop_native\",\n",
    "        \"P0030006\": \"pop_asian\",\n",
    "        \"P0030007\": \"pop_pacific\",\n",
    "        \"P0030009\": \"pop_two_or_more\",\n",
    "        \"P0040002\": \"pop_hispanic\"\n",
    "    }\n",
    "    census_df = census_df.set_index(\"GEOID20\").rename(columns=census_df_format)\n",
    "\n",
    "    # Set index to GeoID and format election data\n",
    "    election_df_format = {\n",
    "        \"G20PREDBID\" : \"vote_dem\",\n",
    "        \"G20PRERTRU\": \"vote_rep\"\n",
    "    }\n",
    "    election_df = election_df.set_index(\"GEOID20\").rename(columns=election_df_format)\n",
    "    \n",
    "    # Join blocks onto the precinct-level DataFrame\n",
    "    census_df[\"VTD_GEOID20\"] = census_df.index\n",
    "    merged_df = geopandas.sjoin(election_df, census_df, how=\"left\", predicate=\"covered_by\")\n",
    "    precinct_df = merged_df.groupby(\"VTD_GEOID20\").sum()\n",
    "\n",
    "    # Return output\n",
    "    output = list()\n",
    "    for entry in output_format:\n",
    "        if entry == \"merged_data\":\n",
    "            output.append(precinct_df)\n",
    "        elif entry == \"mappings\":\n",
    "            # Create dict indicating the blocks that correspond to each district\n",
    "            d = defaultdict(lambda : list())\n",
    "            for index, row in merged_df.iterrows():\n",
    "                d[row[\"VTD_GEOID20\"]].append(index)\n",
    "            output.append(dict(d))\n",
    "        elif entry == \"unused_blocks\":\n",
    "            output.append(merged_df.loc[merged_df[\"VTD_GEOID20\"].isna()])\n",
    "\n",
    "    if len(output) == 1:\n",
    "        return output[0]\n",
    "    return output\n"
   ]
  },
  {
   "cell_type": "code",
   "execution_count": 35,
   "metadata": {},
   "outputs": [],
   "source": [
    "def get_percentages(precinct_df):\n",
    "    # Calculate percentages for each demographic group\n",
    "    pct_calculations = {\n",
    "        \"pop_white\": \"pct_white\",\n",
    "        \"pop_black\": \"pct_black\",\n",
    "        \"pop_native\": \"pct_native\",\n",
    "        \"pop_asian\": \"pct_asian\",\n",
    "        \"pop_pacific\": \"pct_pacific\",\n",
    "        \"pop_two_or_more\": \"pct_two_or_more\",\n",
    "        \"pop_hispanic\": \"pct_hispanic\"\n",
    "    }\n",
    "    for k, v in pct_calculations.items():\n",
    "        precinct_df[v] = precinct_df[k] / precinct_df[\"pop_total\"]\n",
    "    \n",
    "    # Calculate percentages for each party (only Democrat and Republican voters are taken into account)\n",
    "    precinct_df[\"pct_vote_dem\"] = precinct_df[\"vote_dem\"] / (precinct_df[\"vote_dem\"] + precinct_df[\"vote_rep\"])\n",
    "    precinct_df[\"pct_vote_rep\"] = precinct_df[\"vote_rep\"] / (precinct_df[\"vote_dem\"] + precinct_df[\"vote_rep\"])\n",
    "\n",
    "    return precinct_df"
   ]
  },
  {
   "cell_type": "code",
   "execution_count": 7,
   "metadata": {},
   "outputs": [],
   "source": [
    "# Load data files\n",
    "va_census_df = geopandas.read_file(VA_DEMOGRAPHIC_PATH)\n",
    "va_election_df = geopandas.read_file(VA_BLOCK_ELECTION_PATH)\n",
    "\n",
    "# Get merged precinct data\n",
    "va_precinct_df = get_precinct_data(va_census_df, va_election_df)\n",
    "#va_precinct_df.to_file(\"va_precinct_data.json\", driver=\"GeoJSON\")"
   ]
  }
 ],
 "metadata": {
  "kernelspec": {
   "display_name": "Python 3",
   "language": "python",
   "name": "python3"
  },
  "language_info": {
   "codemirror_mode": {
    "name": "ipython",
    "version": 3
   },
   "file_extension": ".py",
   "mimetype": "text/x-python",
   "name": "python",
   "nbconvert_exporter": "python",
   "pygments_lexer": "ipython3",
   "version": "3.10.7"
  },
  "orig_nbformat": 4
 },
 "nbformat": 4,
 "nbformat_minor": 2
}
